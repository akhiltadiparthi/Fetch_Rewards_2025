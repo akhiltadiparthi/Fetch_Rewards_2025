{
 "cells": [
  {
   "cell_type": "markdown",
   "metadata": {},
   "source": [
    "## <b> Loading required packages </b>"
   ]
  },
  {
   "cell_type": "code",
   "execution_count": 4,
   "metadata": {},
   "outputs": [],
   "source": [
    "import pandas as pd\n",
    "import numpy as np\n",
    "import seaborn as sns\n",
    "import warnings \n",
    "import matplotlib.pyplot as plt\n",
    "import seaborn as sns\n",
    "import scipy.stats as stats\n"
   ]
  },
  {
   "cell_type": "markdown",
   "metadata": {},
   "source": [
    "## <b>Reusable functions </b>\n",
    "\n",
    "Creating this section, to use the codes across the notebook "
   ]
  },
  {
   "cell_type": "code",
   "execution_count": 5,
   "metadata": {},
   "outputs": [],
   "source": [
    "''' Correlation Analysis'''\n",
    "def correlation_matrix(df):\n",
    "    numeric_cols = df.select_dtypes(include=[np.number])\n",
    "    corr_matrix = numeric_cols.corr()\n",
    "    plt.figure(figsize=(10, 10))\n",
    "    sns.heatmap(corr_matrix, annot=True, fmt=\".2f\")\n",
    "    plt.title(\"Correlation Matrix\")\n",
    "    plt.show()\n",
    "\n",
    "\n",
    "#Outlier Analysis\n",
    "def outlier_analysis(df):\n",
    "    numeric_cols = df.select_dtypes(include=['int64', 'float64'])\n",
    "    for col in numeric_cols:\n",
    "        print(\"Analyzing Column:\", col)\n",
    "        Q1 = df[col].quantile(0.25)\n",
    "        Q3 = df[col].quantile(0.75)\n",
    "        IQR = Q3 - Q1\n",
    "        lower_bound = Q1 - 1.5 * IQR\n",
    "        upper_bound = Q3 + 1.5 * IQR\n",
    "\n",
    "        outliers = df[(df[col] < lower_bound) | (df[col] > upper_bound)]\n",
    "        print(f\"  Total outliers in {col}: {len(outliers)}\")\n",
    "        plt.figure(figsize=(10, 5))\n",
    "        sns.boxplot(x=numeric_cols[col])\n",
    "        plt.title(f\"Boxplot of {col}\")\n",
    "        plt.show()"
   ]
  },
  {
   "cell_type": "markdown",
   "metadata": {},
   "source": [
    "## <b> Products Dataset Analysis </b>"
   ]
  },
  {
   "cell_type": "code",
   "execution_count": 6,
   "metadata": {},
   "outputs": [],
   "source": [
    "products_df = pd.read_csv('products_takehome.csv')"
   ]
  },
  {
   "cell_type": "code",
   "execution_count": 7,
   "metadata": {},
   "outputs": [
    {
     "data": {
      "text/html": [
       "<div>\n",
       "<style scoped>\n",
       "    .dataframe tbody tr th:only-of-type {\n",
       "        vertical-align: middle;\n",
       "    }\n",
       "\n",
       "    .dataframe tbody tr th {\n",
       "        vertical-align: top;\n",
       "    }\n",
       "\n",
       "    .dataframe thead th {\n",
       "        text-align: right;\n",
       "    }\n",
       "</style>\n",
       "<table border=\"1\" class=\"dataframe\">\n",
       "  <thead>\n",
       "    <tr style=\"text-align: right;\">\n",
       "      <th></th>\n",
       "      <th>CATEGORY_1</th>\n",
       "      <th>CATEGORY_2</th>\n",
       "      <th>CATEGORY_3</th>\n",
       "      <th>CATEGORY_4</th>\n",
       "      <th>MANUFACTURER</th>\n",
       "      <th>BRAND</th>\n",
       "      <th>BARCODE</th>\n",
       "    </tr>\n",
       "  </thead>\n",
       "  <tbody>\n",
       "    <tr>\n",
       "      <th>0</th>\n",
       "      <td>Health &amp; Wellness</td>\n",
       "      <td>Sexual Health</td>\n",
       "      <td>Conductivity Gels &amp; Lotions</td>\n",
       "      <td>NaN</td>\n",
       "      <td>NaN</td>\n",
       "      <td>NaN</td>\n",
       "      <td>7.964944e+11</td>\n",
       "    </tr>\n",
       "    <tr>\n",
       "      <th>1</th>\n",
       "      <td>Snacks</td>\n",
       "      <td>Puffed Snacks</td>\n",
       "      <td>Cheese Curls &amp; Puffs</td>\n",
       "      <td>NaN</td>\n",
       "      <td>NaN</td>\n",
       "      <td>NaN</td>\n",
       "      <td>2.327801e+10</td>\n",
       "    </tr>\n",
       "    <tr>\n",
       "      <th>2</th>\n",
       "      <td>Health &amp; Wellness</td>\n",
       "      <td>Hair Care</td>\n",
       "      <td>Hair Care Accessories</td>\n",
       "      <td>NaN</td>\n",
       "      <td>PLACEHOLDER MANUFACTURER</td>\n",
       "      <td>ELECSOP</td>\n",
       "      <td>4.618178e+11</td>\n",
       "    </tr>\n",
       "    <tr>\n",
       "      <th>3</th>\n",
       "      <td>Health &amp; Wellness</td>\n",
       "      <td>Oral Care</td>\n",
       "      <td>Toothpaste</td>\n",
       "      <td>NaN</td>\n",
       "      <td>COLGATE-PALMOLIVE</td>\n",
       "      <td>COLGATE</td>\n",
       "      <td>3.500047e+10</td>\n",
       "    </tr>\n",
       "    <tr>\n",
       "      <th>4</th>\n",
       "      <td>Health &amp; Wellness</td>\n",
       "      <td>Medicines &amp; Treatments</td>\n",
       "      <td>Essential Oils</td>\n",
       "      <td>NaN</td>\n",
       "      <td>MAPLE HOLISTICS AND HONEYDEW PRODUCTS INTERCHA...</td>\n",
       "      <td>MAPLE HOLISTICS</td>\n",
       "      <td>8.068109e+11</td>\n",
       "    </tr>\n",
       "  </tbody>\n",
       "</table>\n",
       "</div>"
      ],
      "text/plain": [
       "          CATEGORY_1              CATEGORY_2                   CATEGORY_3  \\\n",
       "0  Health & Wellness           Sexual Health  Conductivity Gels & Lotions   \n",
       "1             Snacks           Puffed Snacks         Cheese Curls & Puffs   \n",
       "2  Health & Wellness               Hair Care        Hair Care Accessories   \n",
       "3  Health & Wellness               Oral Care                   Toothpaste   \n",
       "4  Health & Wellness  Medicines & Treatments               Essential Oils   \n",
       "\n",
       "  CATEGORY_4                                       MANUFACTURER  \\\n",
       "0        NaN                                                NaN   \n",
       "1        NaN                                                NaN   \n",
       "2        NaN                           PLACEHOLDER MANUFACTURER   \n",
       "3        NaN                                  COLGATE-PALMOLIVE   \n",
       "4        NaN  MAPLE HOLISTICS AND HONEYDEW PRODUCTS INTERCHA...   \n",
       "\n",
       "             BRAND       BARCODE  \n",
       "0              NaN  7.964944e+11  \n",
       "1              NaN  2.327801e+10  \n",
       "2          ELECSOP  4.618178e+11  \n",
       "3          COLGATE  3.500047e+10  \n",
       "4  MAPLE HOLISTICS  8.068109e+11  "
      ]
     },
     "execution_count": 7,
     "metadata": {},
     "output_type": "execute_result"
    }
   ],
   "source": [
    "products_df.head()"
   ]
  },
  {
   "cell_type": "code",
   "execution_count": 8,
   "metadata": {},
   "outputs": [
    {
     "name": "stdout",
     "output_type": "stream",
     "text": [
      "<class 'pandas.core.frame.DataFrame'>\n",
      "RangeIndex: 845552 entries, 0 to 845551\n",
      "Data columns (total 7 columns):\n",
      " #   Column        Non-Null Count   Dtype  \n",
      "---  ------        --------------   -----  \n",
      " 0   CATEGORY_1    845441 non-null  object \n",
      " 1   CATEGORY_2    844128 non-null  object \n",
      " 2   CATEGORY_3    784986 non-null  object \n",
      " 3   CATEGORY_4    67459 non-null   object \n",
      " 4   MANUFACTURER  619078 non-null  object \n",
      " 5   BRAND         619080 non-null  object \n",
      " 6   BARCODE       841527 non-null  float64\n",
      "dtypes: float64(1), object(6)\n",
      "memory usage: 45.2+ MB\n"
     ]
    },
    {
     "data": {
      "text/plain": [
       "' \\nchecking in to see the data type of all the columns in here\\nWe can notice that BARCODE is an float64 data type, which is not ideal for a barcode.\\nAs they are being stored in scientific notation, we have to convert them to string\\nIt also prevents loosing the leading zeros if any in BARCODE \\n'"
      ]
     },
     "execution_count": 8,
     "metadata": {},
     "output_type": "execute_result"
    }
   ],
   "source": [
    "products_df.info()\n",
    "''' \n",
    "checking in to see the data type of all the columns in here\n",
    "We can notice that BARCODE is an float64 data type, which is not ideal for a barcode.\n",
    "As they are being stored in scientific notation, we have to convert them to string\n",
    "It also prevents loosing the leading zeros if any in BARCODE \n",
    "'''"
   ]
  },
  {
   "cell_type": "code",
   "execution_count": 9,
   "metadata": {},
   "outputs": [
    {
     "name": "stdout",
     "output_type": "stream",
     "text": [
      "<class 'pandas.core.frame.DataFrame'>\n",
      "RangeIndex: 845552 entries, 0 to 845551\n",
      "Data columns (total 7 columns):\n",
      " #   Column        Non-Null Count   Dtype \n",
      "---  ------        --------------   ----- \n",
      " 0   CATEGORY_1    845441 non-null  object\n",
      " 1   CATEGORY_2    844128 non-null  object\n",
      " 2   CATEGORY_3    784986 non-null  object\n",
      " 3   CATEGORY_4    67459 non-null   object\n",
      " 4   MANUFACTURER  619078 non-null  object\n",
      " 5   BRAND         619080 non-null  object\n",
      " 6   BARCODE       845552 non-null  object\n",
      "dtypes: object(7)\n",
      "memory usage: 45.2+ MB\n"
     ]
    },
    {
     "data": {
      "text/plain": [
       "0    796494407820.0\n",
       "1     23278011028.0\n",
       "2    461817824225.0\n",
       "3     35000466815.0\n",
       "4    806810850459.0\n",
       "Name: BARCODE, dtype: object"
      ]
     },
     "execution_count": 9,
     "metadata": {},
     "output_type": "execute_result"
    }
   ],
   "source": [
    "'''Converting BARCODE to string'''\n",
    "products_df['BARCODE'] = products_df['BARCODE'].astype(str)\n",
    "products_df.info()\n",
    "products_df['BARCODE'].head()\n"
   ]
  },
  {
   "cell_type": "markdown",
   "metadata": {},
   "source": [
    "### Checking Nulls"
   ]
  },
  {
   "cell_type": "code",
   "execution_count": 10,
   "metadata": {},
   "outputs": [
    {
     "data": {
      "text/plain": [
       "'this shows all the columns have a large of null values, we will need \\nto clean the data'"
      ]
     },
     "execution_count": 10,
     "metadata": {},
     "output_type": "execute_result"
    }
   ],
   "source": [
    "products_df.isnull().sum() \n",
    "'''this shows all the columns have a large of null values, we will need \n",
    "to clean the data'''"
   ]
  },
  {
   "cell_type": "markdown",
   "metadata": {},
   "source": [
    "### Checking for special/invalid characters"
   ]
  },
  {
   "cell_type": "code",
   "execution_count": 11,
   "metadata": {},
   "outputs": [
    {
     "name": "stdout",
     "output_type": "stream",
     "text": [
      "\n",
      " the following are the special characters in the column : \n",
      " CATEGORY_1\n",
      "[]\n",
      "\n",
      " the following are the special characters in the column : \n",
      " CATEGORY_2\n",
      "[]\n",
      "\n",
      " the following are the special characters in the column : \n",
      " CATEGORY_3\n",
      "[]\n",
      "\n",
      " the following are the special characters in the column : \n",
      " CATEGORY_4\n",
      "[]\n",
      "\n",
      " the following are the special characters in the column : \n",
      " MANUFACTURER\n",
      "['BROWN‑FORMAN']\n",
      "\n",
      " the following are the special characters in the column : \n",
      " BRAND\n",
      "['FLINTSTONES™ VITAMINS' 'THERA°PEARL' 'ZIOKOK: 13063' 'MY*T*FINE'\n",
      " 'AOWA: 10008' 'BOOBIE* SUPERFOODS' 'PRICE*S' 'TRUPEONY: 10227'\n",
      " 'JETTINGBUY:10073' 'DELIA*S' 'AVATAR: THE LAST AIRBENDER' 'RO*TEL']\n",
      "\n",
      " the following are the special characters in the column : \n",
      " BARCODE\n",
      "[]\n"
     ]
    }
   ],
   "source": [
    "'''\n",
    "Findings:\n",
    "the above shows the special characters in the column. \n",
    "We can see there are some brand names have invalid names like 'MY*T*FINE', 'AOWA: 10008', 'RO*TEL'\n",
    "We need to confirm with the stakeholder if brand names trademark logo should be included in the name or not.\n",
    "\n",
    "While most of the other names are valid. \n",
    "'''\n",
    "\n",
    "#checking for any special characters in the columns\n",
    "for col in products_df.columns:\n",
    "    if products_df[col].dtype == 'object':\n",
    "        special_characters = products_df[products_df[col].str.contains(r'[^\\w\\s&\\'’!.\\-,+()®/]',regex=True, na=False)]\n",
    "        print(f\"\\n the following are the special characters in the column : \\n {col}\")\n",
    "        print(special_characters[col].unique())"
   ]
  },
  {
   "cell_type": "markdown",
   "metadata": {},
   "source": [
    "### Finding Duplicates"
   ]
  },
  {
   "cell_type": "code",
   "execution_count": 12,
   "metadata": {},
   "outputs": [
    {
     "name": "stdout",
     "output_type": "stream",
     "text": [
      "Number of duplicates in Products df: 215\n"
     ]
    }
   ],
   "source": [
    "''' \n",
    "There are 215 duplicates in the data and needs to be dropped\n",
    "'''\n",
    "print(f\"Number of duplicates in Products df: {products_df.duplicated().sum()}\")"
   ]
  },
  {
   "cell_type": "markdown",
   "metadata": {},
   "source": [
    "#### Checking Unique values"
   ]
  },
  {
   "cell_type": "code",
   "execution_count": 13,
   "metadata": {},
   "outputs": [
    {
     "name": "stdout",
     "output_type": "stream",
     "text": [
      "\n",
      " the following are the unique values in the column : \n",
      " CATEGORY_1\n",
      "['Health & Wellness' 'Snacks' 'Beverages' 'Pantry' 'Alcohol'\n",
      " 'Apparel & Accessories' 'Restaurant' 'Needs Review' 'Dairy'\n",
      " 'Home & Garden' nan 'Household Supplies' 'Meat & Seafood' 'Deli & Bakery'\n",
      " 'Sporting Goods' 'Produce' 'Office & School' 'Frozen'\n",
      " 'Arts & Entertainment' 'Animals & Pet Supplies' 'Electronics' 'Beauty'\n",
      " 'Toys & Games' 'Mature' 'Vehicles & Parts' 'Baby & Toddler'\n",
      " 'Luggage & Bags' 'Media']\n",
      "\n",
      " the following are the unique values in the column : \n",
      " CATEGORY_2\n",
      "['Sexual Health' 'Puffed Snacks' 'Hair Care' 'Oral Care'\n",
      " 'Medicines & Treatments' 'Deodorant & Antiperspirant' 'Snack Bars' nan\n",
      " 'Bath & Body' 'Nuts & Seeds' 'Candy' 'Cookies' 'Variety Snack Packs'\n",
      " 'Hair Removal' 'Medical Supplies & Equipment' 'Chips' 'Snack Cakes'\n",
      " 'Skin Care' 'Dessert Toppings' 'Eye Care' 'Fruit & Vegetable Snacks'\n",
      " 'Snack Mixes' 'Crackers' 'Jerky & Dried Meat'\n",
      " 'Topical Muscle & Joint Relief Treatments' 'Foot Care' 'First Aid'\n",
      " 'Ear Care' 'Menstrual Care' 'Pretzels' 'Trail Mix' 'Dips & Salsa'\n",
      " 'Adult Incontinence' 'Water' 'Cereal, Granola, & Toaster Pastries' 'Wine'\n",
      " 'Pudding & Gelatin' 'Clothing' 'Carbonated Soft Drinks'\n",
      " 'Energy & Endurance' 'Beverages' 'Cheese' 'Kitchen & Dining'\n",
      " 'Energy Drinks' 'Packaged Vegetables' 'Household Cleaning Supplies'\n",
      " 'Business & Home Security'\n",
      " 'Hard Seltzers, Sodas, Waters, Lemonades & Teas' 'Beer' 'Fresh Seafood'\n",
      " 'Packaged Meals & Sides' 'Prepared Meals' 'Jewelry' 'Exercise & Fitness'\n",
      " 'Pasta & Noodles' 'Packaged Fruit & Applesauce' 'Fresh Fruits'\n",
      " 'Name Plates' 'Sauces & Marinades' 'Frozen Desserts' 'Spirits'\n",
      " 'Cooking & Baking' 'Athletics' 'Clothing Accessories' 'Plants'\n",
      " 'Musical Instruments' 'Cocktail Prep' 'Beverage Syrups'\n",
      " 'Frozen Pizza & Pizza Snacks' 'Nut Butters & Jam' 'Coffee'\n",
      " 'Fruit & Vegetable Juices' 'Pet Carriers, Crates & Accessories' 'Audio'\n",
      " 'Hardware' 'Fish Supplies' 'Makeup' 'Decor' 'Toys' 'À La Carte Item'\n",
      " 'Office Carts' 'Frozen Meat' 'Pet Grooming Supplies' 'Fresh Vegetables'\n",
      " 'Furniture' 'Tobacco Products' 'Soup & Broth' 'Dairy Alternatives'\n",
      " 'Vehicle Storage & Cargo' 'Packaged Seafood' 'Office & Chair Mats'\n",
      " 'Pickled Goods' 'Outdoor Recreation' 'Indoor Games' 'Arts & Crafts'\n",
      " 'Frozen Appetizers' 'Food Storage' 'Tea'\n",
      " 'Vehicle Maintenance, Care & Decor' 'Games'\n",
      " 'Arcade Equipment & Accessories' 'Baby Toys & Activity Equipment'\n",
      " 'Hard Ciders' 'Luggage Accessories' 'Lawn & Garden' 'Books' 'Condiments'\n",
      " 'Lighting' 'Ice' 'Presentation Supplies' 'Handbag, Wallet & Accessories'\n",
      " 'Emergency Preparedness' 'Music & Recordings' 'Party & Celebration'\n",
      " 'Shoes' 'Pool, Spa & Accessories' 'Baby & Toddler Feeding'\n",
      " 'Malt Beverages' 'Household Appliances' 'Shipping Supplies'\n",
      " 'Frozen Sides' 'Baby Transport']\n",
      "\n",
      " the following are the unique values in the column : \n",
      " CATEGORY_3\n",
      "['Conductivity Gels & Lotions' 'Cheese Curls & Puffs'\n",
      " 'Hair Care Accessories' 'Toothpaste' 'Essential Oils'\n",
      " 'Vitamins & Herbal Supplements' \"Men's Deodorant & Antiperspirant\"\n",
      " 'Granola Bars' nan 'Skin Treatments' 'Hand & Body Lotions' 'Hazelnuts'\n",
      " 'Shower Caps' 'Hair Tools' 'Candy Variety Pack' 'Chocolate Candy'\n",
      " 'Oral Care Accessories' 'Hand Sanitizer Wipes' 'Shaving Gel & Cream'\n",
      " 'Crisps' 'Pies & Tarts Snack Cakes' 'Skin Care Masks & Peels'\n",
      " 'Lip Balms & Treatments' 'Anti-Aging Skin Care Kits' 'Shampoo'\n",
      " 'Ice Cream Sauces & Syrups' 'Reading Glasses' 'Popcorn' 'Dried Fruit'\n",
      " 'Sunscreen' 'Hair Styling Products' 'Almonds' 'Facial Cleansers'\n",
      " 'Confection Candy' 'Wheat Crackers' 'Hand Sanitizer' 'Potato Chips'\n",
      " 'Performance & Protein Bars' 'Jerky & Bites' 'Facial Pore Strips'\n",
      " 'Braces & Wraps' 'Body Wash' 'Body Powder' 'Bath & Body Gift Sets'\n",
      " 'Chestnuts' 'Denture Care' 'Brownie Snack Cakes' 'Bath Sponges & Loofahs'\n",
      " 'Snack Seeds' 'Foot Care Devices and Grooming Aids'\n",
      " 'Allergy & Sinus Medicines & Treatments' 'Facial Lotion & Moisturizer'\n",
      " 'Razors' 'Toothbrushes' 'Hot & Cold Compress' 'Floss'\n",
      " 'Sleeping & Snoring' 'Covered Nuts' 'Fruit & Nut Bars' 'Mints'\n",
      " 'Teeth Whitening' 'Fruit Snacks' 'Donut Snack Cakes' 'Bandages & Gauze'\n",
      " 'Insoles & Orthotics' 'Hair Color' 'Ear Plugs' 'Menstrual Care Underwear'\n",
      " 'Hair Treatments' 'Corn Chips' 'Pretzel Crisps' 'Eye Creams'\n",
      " 'Tattoo Care' 'Tortilla Chips' 'Cereal Bars & Breakfast Biscuits'\n",
      " 'Oral Pain Relief' 'Mixed Nuts' 'Medical Masks & Gloves'\n",
      " 'Liquid Hand Soap' 'Contact Lens Solution' 'Pistachios' 'Bath Additives'\n",
      " 'Hair Removal Cream' 'Conditioner' 'Hummus'\n",
      " 'Gender Neutral Deodorant & Antiperspirant'\n",
      " 'Topical & Muscular Medicines & Treatments' 'Menstrual Care Liners'\n",
      " 'Digestive Health Medicines & Treatments' 'Pork Skins' 'Eye Drops'\n",
      " 'Ranch Dip' 'Anti-Fungal Foot Care' 'Acne Treatments & Kits' 'Gum'\n",
      " 'Hair Removal Accessories' 'Bar Soap' 'Fruit Rolls & Twists'\n",
      " 'Rice Treats' 'Peanuts' 'Bath Brushes' 'Flavored Pretzels'\n",
      " 'Ointments & Liquids' 'Danishes & Puffs Snack Cakes'\n",
      " 'Adult Incontinence Underwear' 'Dried Vegetables' 'Body Oil'\n",
      " 'Callus Cushions & Paddings' 'After Shave' 'Cheese Crackers'\n",
      " 'Smoking Cessation' 'Sparkling Water' 'Menstrual Care Cups'\n",
      " 'Cough & Cold Medicines & Treatments' 'Traditional Pretzels'\n",
      " 'Facial Cleansing Kits' 'Adult Incontinence Liners' 'Bagel & Pita Chips'\n",
      " 'Mouthwash' 'Menstrual Care Treatments & Cleansers'\n",
      " 'Shampoo & Conditioner Combinations'\n",
      " 'Pain & Fever Medicines & Treatments' 'Breakfast Cereal'\n",
      " 'Dried Meat Sticks' 'Canned & Whipped Cream'\n",
      " \"Women's Deodorant & Antiperspirant\" 'Cashews' 'Dip Mixes' 'Salsa'\n",
      " 'Cakes & Truffles Snack Cakes' 'Other Crackers' 'Hair Loss Prevention'\n",
      " 'Ready-to-Eat Gelatin' 'Tampons' 'Shirts & Tops' 'Cola'\n",
      " 'Meal Replacement Bars' 'Adult Incontinence Furniture Pads'\n",
      " 'Adult Incontinence Bladder Supports' 'Menstrual Care Pads' 'Other Dips'\n",
      " 'Animal Crackers' 'Shampoo & Conditioner Co-Pack' 'Sandwich Crackers'\n",
      " 'Ear Drops' 'Thermometers & Accesories' 'Dry Shampoo'\n",
      " 'Adult Incontinence Pads' 'Other Nuts' 'Corn & Rice Cakes'\n",
      " 'Ready-to-Eat Pudding' 'Waxing & Strips' 'Chews & Gels'\n",
      " 'Covered Pretzels' 'Contraceptives' 'Asthma Treatments' 'First Aid Kits'\n",
      " 'Soda' 'Petroleum Jelly' 'Graham Crackers' 'Guacamole' 'Cotton Swabs'\n",
      " 'Whole Grain Chips' 'Lice Treatment' 'Saltine Crackers'\n",
      " 'Muffin Snack Cakes' 'Skin Toners & Astringents'\n",
      " 'Shredded & Grated Cheese' 'Activewear' 'Shots'\n",
      " 'Food & Beverage Carriers' 'French Onion Dip' 'Wart Removers'\n",
      " 'Skin Insect Repellent' 'Cheese Dip' 'Bean Dip' 'Butter Crackers'\n",
      " 'Ice Cream Cones' 'Sliced Cheese' 'Breath Strips & Sprays'\n",
      " 'Powdered Hand Soap' 'Sparkling Wines' 'Mushrooms' 'Jock Itch'\n",
      " 'Household Cleaning Products' 'Hard Seltzer & Still Water' 'Lager'\n",
      " 'Cheese Snacks' 'Filled Pretzels' 'Eyeglass Cleaning Kits'\n",
      " 'Cheese Blocks' 'Fresh Fish' 'Microwavable Sides' 'Prepared Snack Pack'\n",
      " 'Sleepwear & Loungewear' 'Red Wine' 'White Wine' 'Sweaters & Sweatshirts'\n",
      " 'Watches & Accessories' 'Vibration Exercise Machines'\n",
      " 'Microwavable Entrees' 'Club Soda' 'Contraceptive Cases'\n",
      " 'Prescription Lenses' 'Non-Alcoholic Beer' 'Rosé' 'Dry Pasta'\n",
      " 'Ready-to-Eat Dessert Cups' 'Kitchen Appliances'\n",
      " 'Prescription Medications' 'Packaged Pineapple' 'Fresh Grapes'\n",
      " 'Soy & Fish Sauce' 'Frozen Non-Dairy Dessert' 'Applesauce'\n",
      " 'Packaged Mixed Fruit & Cocktail' 'Packaged Pears' 'Fresh Citrus Fruits'\n",
      " 'Frozen Dairy Desserts' 'Vodka' 'Baking Ingredients' 'Gymnastics'\n",
      " 'Dessert Dips' 'Hats' 'Seeds & Bulbs' 'Packaged Peaches' 'Ale'\n",
      " 'Non-Alchoholic Cocktail Mixers' 'Underwear & Socks' 'Scarves & Shawls'\n",
      " 'Purified Water' 'Stovetop & Oven Entrees' 'Teriyaki Sauce'\n",
      " 'Frozen Pizza Rolls' 'Tableware' 'Jellies, Jams, & Preserves'\n",
      " 'Ready-To-Drink Coffee' 'Coconut Water' 'Granola' 'Bottoms'\n",
      " 'Audio Players & Recorders' 'Aquariums & Accessories' 'Lip Makeup'\n",
      " 'Stopwatches' 'Cream Cheese & Spreads' 'Pasta Sauce'\n",
      " 'Baby & Toddler Clothing' 'Outerwear' 'Soccer' 'Hardware Accessories'\n",
      " 'Peanut Butter' 'Grape Juice' 'Clocks' 'Cranberry Juice'\n",
      " 'Sparkling Fruit Juice' 'Fresh Shellfish' 'Play Vehicles'\n",
      " 'Snacks & Sides' 'AV Carts' 'Toy Gift Baskets' 'Barware' 'Frozen Seafood'\n",
      " 'Fresh Cauliflower' 'Fresh Peppers' 'Toaster Pastries' 'Yoga & Pilates'\n",
      " 'Broth, Bouillon, & Stock' 'Non-Dairy Cheese' 'Coffee Pods'\n",
      " 'Packaged Salmon' 'Sushi' 'Chair Mats' 'Packaged Tuna' 'Vegetable Medley'\n",
      " 'Pickles' 'Oatmeal & Hot Cereal' 'Dolls, Playsets & Toy Figures'\n",
      " 'Camping & Hiking' 'Bowling' 'Sugars & Sweeteners' 'Spices & Seasonings'\n",
      " 'Art & Crafting Materials' 'Fresh Cherries' 'Flameless Candles' 'Cereal'\n",
      " 'Frozen Other Appetizers' 'Food Storage Containers' 'Iced Teas'\n",
      " 'Vehicle Fluids' 'Prepared Cocktails' 'Cookware & Bakeware'\n",
      " 'Slushies & Icees' 'Clock Parts' 'Milk' 'Kitchen Tools & Utensils' 'Corn'\n",
      " 'Slot Machines' 'Throwing Darts' 'Prescription Glasses Frames'\n",
      " 'Baby Activity Toys' 'Weighted Clothing' 'Sunglasses' 'Outdoor Living'\n",
      " 'Fuel Containers & Tanks' 'Beans' 'Lemonade & Limeade' 'Tonic Water'\n",
      " 'Chair & Sofa Cushions' 'Seasonal & Holiday Decorations'\n",
      " 'Beer Variety Packs' 'Decorative Trays' 'Wind-Up Toys' 'Cocktail Sauces'\n",
      " 'Fresh Asparagus' 'Orange Juice' 'Flood & Spot Lights' 'Chalkboards'\n",
      " 'Hot Sauce' 'Emergency Tools & Kits' 'Snow Removal' 'Maternity Clothing'\n",
      " 'Oils & Sprays' 'Crumbled Cheese' 'Packaged Cherries' 'Fresh Melons'\n",
      " 'Tomato Juice' 'Sours & Fruit Beer' 'Carrots' 'Gift Giving' 'Potatoes'\n",
      " 'Baby Food Prep & Accessories' 'Decorative Plaques' 'Lemon & Lime Juice'\n",
      " 'Novelty Signs' 'Peas' 'Hard Sodas' 'Climate Control Appliances'\n",
      " 'Cycling' 'Non-Dairy Cream' 'Headwear & Accessories' 'Hoisin'\n",
      " 'Moving & Shipping Boxes' 'Peanut Butter Alternatives'\n",
      " 'Frozen French Fries' 'Baby Carriers']\n",
      "\n",
      " the following are the unique values in the column : \n",
      " CATEGORY_4\n",
      "[nan 'Hair Brushes & Combs' \"Women's Shaving Gel & Cream\" 'Lip Balms'\n",
      " 'Already Popped Popcorn' \"Men's Razors\" 'Snoring Aids'\n",
      " 'Popcorn Kernels & Popcorn Seasonings' 'Sleep Aids' 'Hair Straighteners'\n",
      " 'Medicated Lip Treatments'\n",
      " 'Nausea & Motion Sickness Medicines & Treatments' \"Women's Razors\"\n",
      " 'Flavored Sparkling Water' 'Immune Support'\n",
      " 'Constipation Relief Medicines & Treatments'\n",
      " 'Cold & Flu Medicines & Treatments'\n",
      " 'Anti Diarrheal Medicines & Treatments' 'Cough Drops & Lozenges'\n",
      " 'Water Pills' 'Microwave Popcorn'\n",
      " 'Cough & Chest Congestion Medicines & Treatments'\n",
      " 'Heartburn & Antacids Medicines & Treatments' 'Regular Cola' 'Diet Cola'\n",
      " 'Sore Throat Medicines & Treatments' 'Gas Relief Medicines & Treatments'\n",
      " 'Diet Soda' 'Vapors & Rubs' \"Men's Shaving Gel & Cream\" 'Skin Toners'\n",
      " 'Lactose Intolerance Medicines & Treatments' 'Water Bottles'\n",
      " 'Unflavored Sparkling Water' 'Hair Dryers' 'Orange Soda'\n",
      " 'Gender Neutral Razors' 'Ginger Ale' 'Natural Sliced Cheese'\n",
      " 'Sparkling Wine' 'Oven & Grill Cleaners' 'American Lager'\n",
      " 'Individually Packaged Cheese Snacks' 'Astringents' 'Imported Lager'\n",
      " 'Zero Sugar Cola' 'Lemon-Lime Soda' 'Microwavable Non-Potato Sides'\n",
      " 'Red Blend' 'Pinot Gris & Pinot Grigio' 'Pinot Noir'\n",
      " 'Pre-Cut Cheese Snacks' 'Rosé & Blends'\n",
      " 'Gender Neutral Shaving Gel & Cream' 'White Moscato' 'Refrigerators'\n",
      " 'Chardonnay' 'Sherbet' 'Syrah/Shiraz' 'Ice Cream'\n",
      " 'Pie Crust & Pie Filling' 'Drink Sleeves' 'Root Beer' 'White Zinfandel'\n",
      " 'Stout Ale' 'Margarita Mix' 'Prosecco' 'Underwear' 'Riesling'\n",
      " 'Purified Unflavored Water' 'Stovetop Macaroni & Cheese' 'Other Whites'\n",
      " 'Other Non-Alchoholic Cocktail Mixers' 'Drinkware' 'Cabernet Sauvignon'\n",
      " 'Other Red Wines' 'Lip Gloss' 'Cheese Spreads' 'Red Pasta Sauce'\n",
      " 'Baby & Toddler Tops' 'Tops' 'Purified Flavored Water'\n",
      " 'Frozen Dairy Novelties' 'Tool Storage & Organization' 'Wall Clocks'\n",
      " 'Grape Soda' 'Bottle Caps' 'Frozen Fish Fillets' 'Socks' 'White Blend'\n",
      " 'Yoga & Pilates Mats' 'Coolers' 'Merlot' 'Specialty & Cream Sodas'\n",
      " 'Frozen Shellfish' 'Corn Syrup' 'White Merlot' 'Breadcrumbs & Coatings'\n",
      " 'Craft Paint, Ink & Glaze' 'Sauvignon Blanc'\n",
      " 'Baby & Toddler Socks & Tights' 'Meal Kits' 'Zinfandel' 'Champagne'\n",
      " 'Cookware' 'Coconut Milk' 'Pancake & Waffle Syrup' 'Kitchen Organizers'\n",
      " 'Textiles' 'Ramen & Instant Noodles' 'Honey' 'Seasoning Blends'\n",
      " 'Holiday Ornaments' 'Salt & Pepper Shakers' 'Malbec'\n",
      " 'Garlic & Onion Spices & Seasonings' 'Chili Sauce'\n",
      " 'Ice Scrapers & Snow Brushes' 'Other Cooking & Baking Oils' 'Wasabi'\n",
      " 'Dinnerware' 'Regular Soda' 'Beverage Warmers' 'Humidifiers'\n",
      " 'Replacement Drink Lids' 'Baby & Toddler Outfits' 'Variety Pack Sodas'\n",
      " 'Spices']\n",
      "\n",
      " the following are the unique values in the column : \n",
      " MANUFACTURER\n",
      "[nan 'PLACEHOLDER MANUFACTURER' 'COLGATE-PALMOLIVE' ... 'VIDETTE INC'\n",
      " 'SCRUB-IT' 'OUTDOOR PRODUCT INNOVATIONS, INC.']\n",
      "\n",
      " the following are the unique values in the column : \n",
      " BRAND\n",
      "[nan 'ELECSOP' 'COLGATE' ... 'SHULEMIN' 'RHINO BLINDS' 'GATEWAY']\n",
      "\n",
      " the following are the unique values in the column : \n",
      " BARCODE\n",
      "['796494407820.0' '23278011028.0' '461817824225.0' ... '100167154940.0'\n",
      " '75390755960.0' '796793337781.0']\n"
     ]
    }
   ],
   "source": [
    "''' Checking unique values in all the columns to identify any random erroneous values'''\n",
    "for col in products_df.columns:\n",
    "    if products_df[col].dtype == 'object':\n",
    "        print(f\"\\n the following are the unique values in the column : \\n {col}\")\n",
    "        print(products_df[col].unique())"
   ]
  },
  {
   "cell_type": "code",
   "execution_count": 14,
   "metadata": {},
   "outputs": [
    {
     "name": "stdout",
     "output_type": "stream",
     "text": [
      "               CATEGORY_1                CATEGORY_2  \\\n",
      "2       Health & Wellness                 Hair Care   \n",
      "5       Health & Wellness                 Hair Care   \n",
      "11      Health & Wellness    Medicines & Treatments   \n",
      "12      Health & Wellness               Bath & Body   \n",
      "15      Health & Wellness                 Hair Care   \n",
      "...                   ...                       ...   \n",
      "845495             Snacks  Fruit & Vegetable Snacks   \n",
      "845518  Health & Wellness                 Skin Care   \n",
      "845533  Health & Wellness                 Hair Care   \n",
      "845535             Snacks                     Candy   \n",
      "845544             Snacks         Pudding & Gelatin   \n",
      "\n",
      "                       CATEGORY_3            CATEGORY_4  \\\n",
      "2           Hair Care Accessories                   NaN   \n",
      "5           Hair Care Accessories                   NaN   \n",
      "11                Skin Treatments                   NaN   \n",
      "12            Hand & Body Lotions                   NaN   \n",
      "15                     Hair Tools  Hair Brushes & Combs   \n",
      "...                           ...                   ...   \n",
      "845495                Dried Fruit                   NaN   \n",
      "845518  Anti-Aging Skin Care Kits                   NaN   \n",
      "845533                 Hair Tools  Hair Brushes & Combs   \n",
      "845535           Confection Candy                   NaN   \n",
      "845544       Ready-to-Eat Pudding                   NaN   \n",
      "\n",
      "                    MANUFACTURER              BRAND          BARCODE  \n",
      "2       PLACEHOLDER MANUFACTURER            ELECSOP   461817824225.0  \n",
      "5       PLACEHOLDER MANUFACTURER           BEAUHAIR   662658519183.0  \n",
      "11      PLACEHOLDER MANUFACTURER       PERRICONE MD   651473076469.0  \n",
      "12      PLACEHOLDER MANUFACTURER      PRIVATE LABEL     1897456710.0  \n",
      "15      PLACEHOLDER MANUFACTURER          BULK BUYS   731015145751.0  \n",
      "...                          ...                ...              ...  \n",
      "845495  PLACEHOLDER MANUFACTURER    BRAND NOT KNOWN    64445250147.0  \n",
      "845518  PLACEHOLDER MANUFACTURER  PETER THOMAS ROTH   628199308563.0  \n",
      "845533  PLACEHOLDER MANUFACTURER           MAGIDEAL   703676315477.0  \n",
      "845535  PLACEHOLDER MANUFACTURER      PRIVATE LABEL  2000699372509.0  \n",
      "845544  PLACEHOLDER MANUFACTURER    BRAND NOT KNOWN    44276028146.0  \n",
      "\n",
      "[86902 rows x 7 columns]\n"
     ]
    }
   ],
   "source": [
    "'''\n",
    "from checking the unique values in the colunms \n",
    "I noticed a PLACEHOLDER column in MANUFACTURER column\n",
    "\n",
    "Need to confirm with the stakeholder if this is a valid manufacturer name or not\n",
    "'''\n",
    "\n",
    "print(products_df[products_df['MANUFACTURER'].str.contains('PLACEHOLDER',na=False)])"
   ]
  },
  {
   "cell_type": "markdown",
   "metadata": {},
   "source": [
    "#### Analyzing BARCODE column "
   ]
  },
  {
   "cell_type": "code",
   "execution_count": 15,
   "metadata": {},
   "outputs": [
    {
     "name": "stdout",
     "output_type": "stream",
     "text": [
      "Category\n",
      "Invalid(≤10 digits)      7544\n",
      "Valid(>10 digits)      838008\n",
      "Name: COUNT, dtype: int64\n"
     ]
    },
    {
     "data": {
      "image/png": "[encoded data removed]",
      "text/plain": [
       "<Figure size 640x480 with 1 Axes>"
      ]
     },
     "metadata": {},
     "output_type": "display_data"
    }
   ],
   "source": [
    "'''\n",
    "Findings: \n",
    "The count of barcodes with string length less than 10 are 7544 \n",
    "and there is a high chance these barcodes are invalid due to the fact that \n",
    "barcodes are supposed to be greater than 11 digits long.\n",
    "\n",
    "For further confirmation, we need to get the stakeholder's input on this.\n",
    "'''\n",
    "# Compute the barcode lengths\n",
    "barcode_lengths = products_df['BARCODE'].str.len()\n",
    "\n",
    "# Counting the occurrences of each barcode length\n",
    "barcode_length_counts = barcode_lengths.value_counts().reset_index()\n",
    "barcode_length_counts.columns = ['BARCODE_LENGTH', 'COUNT']\n",
    "\n",
    "# Categorizing the barcodes into greather than and less than 10 groups\n",
    "barcode_length_counts['Category'] = barcode_length_counts['BARCODE_LENGTH'].apply(\n",
    "    lambda x: 'Valid(>10 digits)' if x > 10 else 'Invalid(≤10 digits)'\n",
    ")\n",
    "\n",
    "# Group by category and sum counts\n",
    "grouped_counts = barcode_length_counts.groupby('Category')['COUNT'].sum()\n",
    "\n",
    "# Display results and plotting the bar plot with the results\n",
    "print(grouped_counts)\n",
    "grouped_counts.plot(kind='bar')\n",
    "plt.xlabel('Barcode Length Category')\n",
    "plt.ylabel('Count')\n",
    "plt.title('Count of Barcodes by Length Category')\n",
    "plt.show()\n"
   ]
  },
  {
   "cell_type": "markdown",
   "metadata": {},
   "source": [
    "#### Finding Multiple manufactures for same brand"
   ]
  },
  {
   "cell_type": "code",
   "execution_count": 16,
   "metadata": {},
   "outputs": [
    {
     "name": "stdout",
     "output_type": "stream",
     "text": [
      "BRAND\n",
      "CHAPSTICK               2\n",
      "LE PETIT MARSEILIAIS    3\n",
      "TYGAZ                   2\n",
      "Name: MANUFACTURER, dtype: int64\n"
     ]
    }
   ],
   "source": [
    "'''\n",
    "Just to check if there are any mismatches between BRAND and MANUFACTURER columns\n",
    "As there is a high chance that most of the brands are manufactured by the same manufacturer\n",
    "'''\n",
    "mismatch_brands = products_df.groupby('BRAND')['MANUFACTURER'].nunique()\n",
    "print(mismatch_brands[mismatch_brands > 1])  # Brands linked to multiple manufacturers\n"
   ]
  },
  {
   "cell_type": "markdown",
   "metadata": {},
   "source": [
    "#### Checking the presence of Generic names in column"
   ]
  },
  {
   "cell_type": "code",
   "execution_count": 17,
   "metadata": {},
   "outputs": [
    {
     "name": "stdout",
     "output_type": "stream",
     "text": [
      "Empty DataFrame\n",
      "Columns: [CATEGORY_1, CATEGORY_2, CATEGORY_3, CATEGORY_4, MANUFACTURER, BRAND, BARCODE]\n",
      "Index: []\n"
     ]
    }
   ],
   "source": [
    "generic_names = ['UNKNOWN', 'N/A', 'NULL', 'MISSING']\n",
    "print(products_df[products_df['BRAND'].str.upper().isin(generic_names)])\n"
   ]
  },
  {
   "cell_type": "markdown",
   "metadata": {},
   "source": [
    "### <b>Data Observations/Data Quality Findings for Products dataset</b>\n",
    "#### Please note that the detailed findinds are provided as comments inside the code block. This section summarizes all the data cleaning efforts taken care. \n",
    "\n",
    "Most of the columns have a lot of nulls values \n",
    "\n",
    "There are 200+ duplicates in the products dataset\n",
    "\n",
    "There are some special chacters found in some of the columns. Needs verification from stakehodlers\n",
    "\n",
    "Converted BARCODE to object datatype as BARCODE it might loose any leading zeros and in general no numerical calcualtions are performed on BARCODE columns\n",
    "\n",
    "Analyzed the length of barcodes\n",
    "\n",
    "Checking to see if the same brand has multiple manufacturers \n",
    "\n",
    "Found PLACEHOLDER_MANUFACTER values in the Manufacturer column\n",
    "\n",
    "Analyzed the unique values to see for any invalid/errorneous values \n",
    "\n",
    "\n",
    "\n",
    "### Assumptions\n",
    "\n",
    "- Considering Barcode lengths less than 10 are invalid\n",
    "- Some of the brand names have names with invalid characters for example: MY*T*FINE\n",
    "- As most of the brand have same manufacturer in most cases, filtered out the brand \n",
    "that are having multiple manufacturers\n",
    "\n",
    "### Conclusions\n",
    "\n",
    "There are a lot nulls and duplicates present in the dataset.\n",
    "\n",
    "We can notice few special characters as shown in the special character findings code block\n",
    "\n",
    "The barcode with lengths less than 10 might be erroneous data\n",
    "\n",
    "There are some placeholders in the MANUFACTURE name column\n"
   ]
  },
  {
   "cell_type": "markdown",
   "metadata": {},
   "source": [
    "## <b> TRANSACTION Dataset Analysis </b>"
   ]
  },
  {
   "cell_type": "code",
   "execution_count": 18,
   "metadata": {},
   "outputs": [
    {
     "data": {
      "text/html": [
       "<div>\n",
       "<style scoped>\n",
       "    .dataframe tbody tr th:only-of-type {\n",
       "        vertical-align: middle;\n",
       "    }\n",
       "\n",
       "    .dataframe tbody tr th {\n",
       "        vertical-align: top;\n",
       "    }\n",
       "\n",
       "    .dataframe thead th {\n",
       "        text-align: right;\n",
       "    }\n",
       "</style>\n",
       "<table border=\"1\" class=\"dataframe\">\n",
       "  <thead>\n",
       "    <tr style=\"text-align: right;\">\n",
       "      <th></th>\n",
       "      <th>RECEIPT_ID</th>\n",
       "      <th>PURCHASE_DATE</th>\n",
       "      <th>SCAN_DATE</th>\n",
       "      <th>STORE_NAME</th>\n",
       "      <th>USER_ID</th>\n",
       "      <th>BARCODE</th>\n",
       "      <th>FINAL_QUANTITY</th>\n",
       "      <th>FINAL_SALE</th>\n",
       "    </tr>\n",
       "  </thead>\n",
       "  <tbody>\n",
       "    <tr>\n",
       "      <th>0</th>\n",
       "      <td>0000d256-4041-4a3e-adc4-5623fb6e0c99</td>\n",
       "      <td>2024-08-21</td>\n",
       "      <td>2024-08-21 14:19:06.539 Z</td>\n",
       "      <td>WALMART</td>\n",
       "      <td>63b73a7f3d310dceeabd4758</td>\n",
       "      <td>1.530001e+10</td>\n",
       "      <td>1.00</td>\n",
       "      <td></td>\n",
       "    </tr>\n",
       "    <tr>\n",
       "      <th>1</th>\n",
       "      <td>0001455d-7a92-4a7b-a1d2-c747af1c8fd3</td>\n",
       "      <td>2024-07-20</td>\n",
       "      <td>2024-07-20 09:50:24.206 Z</td>\n",
       "      <td>ALDI</td>\n",
       "      <td>62c08877baa38d1a1f6c211a</td>\n",
       "      <td>NaN</td>\n",
       "      <td>zero</td>\n",
       "      <td>1.49</td>\n",
       "    </tr>\n",
       "    <tr>\n",
       "      <th>2</th>\n",
       "      <td>00017e0a-7851-42fb-bfab-0baa96e23586</td>\n",
       "      <td>2024-08-18</td>\n",
       "      <td>2024-08-19 15:38:56.813 Z</td>\n",
       "      <td>WALMART</td>\n",
       "      <td>60842f207ac8b7729e472020</td>\n",
       "      <td>7.874223e+10</td>\n",
       "      <td>1.00</td>\n",
       "      <td></td>\n",
       "    </tr>\n",
       "    <tr>\n",
       "      <th>3</th>\n",
       "      <td>000239aa-3478-453d-801e-66a82e39c8af</td>\n",
       "      <td>2024-06-18</td>\n",
       "      <td>2024-06-19 11:03:37.468 Z</td>\n",
       "      <td>FOOD LION</td>\n",
       "      <td>63fcd7cea4f8442c3386b589</td>\n",
       "      <td>7.833997e+11</td>\n",
       "      <td>zero</td>\n",
       "      <td>3.49</td>\n",
       "    </tr>\n",
       "    <tr>\n",
       "      <th>4</th>\n",
       "      <td>00026b4c-dfe8-49dd-b026-4c2f0fd5c6a1</td>\n",
       "      <td>2024-07-04</td>\n",
       "      <td>2024-07-05 15:56:43.549 Z</td>\n",
       "      <td>RANDALLS</td>\n",
       "      <td>6193231ae9b3d75037b0f928</td>\n",
       "      <td>4.790050e+10</td>\n",
       "      <td>1.00</td>\n",
       "      <td></td>\n",
       "    </tr>\n",
       "  </tbody>\n",
       "</table>\n",
       "</div>"
      ],
      "text/plain": [
       "                             RECEIPT_ID PURCHASE_DATE  \\\n",
       "0  0000d256-4041-4a3e-adc4-5623fb6e0c99    2024-08-21   \n",
       "1  0001455d-7a92-4a7b-a1d2-c747af1c8fd3    2024-07-20   \n",
       "2  00017e0a-7851-42fb-bfab-0baa96e23586    2024-08-18   \n",
       "3  000239aa-3478-453d-801e-66a82e39c8af    2024-06-18   \n",
       "4  00026b4c-dfe8-49dd-b026-4c2f0fd5c6a1    2024-07-04   \n",
       "\n",
       "                   SCAN_DATE STORE_NAME                   USER_ID  \\\n",
       "0  2024-08-21 14:19:06.539 Z    WALMART  63b73a7f3d310dceeabd4758   \n",
       "1  2024-07-20 09:50:24.206 Z       ALDI  62c08877baa38d1a1f6c211a   \n",
       "2  2024-08-19 15:38:56.813 Z    WALMART  60842f207ac8b7729e472020   \n",
       "3  2024-06-19 11:03:37.468 Z  FOOD LION  63fcd7cea4f8442c3386b589   \n",
       "4  2024-07-05 15:56:43.549 Z   RANDALLS  6193231ae9b3d75037b0f928   \n",
       "\n",
       "        BARCODE FINAL_QUANTITY FINAL_SALE  \n",
       "0  1.530001e+10           1.00             \n",
       "1           NaN           zero       1.49  \n",
       "2  7.874223e+10           1.00             \n",
       "3  7.833997e+11           zero       3.49  \n",
       "4  4.790050e+10           1.00             "
      ]
     },
     "execution_count": 18,
     "metadata": {},
     "output_type": "execute_result"
    }
   ],
   "source": [
    "transaction_df = pd.read_csv('transaction_takehome.csv')\n",
    "transaction_df.head()"
   ]
  },
  {
   "cell_type": "code",
   "execution_count": 19,
   "metadata": {},
   "outputs": [
    {
     "name": "stdout",
     "output_type": "stream",
     "text": [
      "<class 'pandas.core.frame.DataFrame'>\n",
      "RangeIndex: 50000 entries, 0 to 49999\n",
      "Data columns (total 8 columns):\n",
      " #   Column          Non-Null Count  Dtype  \n",
      "---  ------          --------------  -----  \n",
      " 0   RECEIPT_ID      50000 non-null  object \n",
      " 1   PURCHASE_DATE   50000 non-null  object \n",
      " 2   SCAN_DATE       50000 non-null  object \n",
      " 3   STORE_NAME      50000 non-null  object \n",
      " 4   USER_ID         50000 non-null  object \n",
      " 5   BARCODE         44238 non-null  float64\n",
      " 6   FINAL_QUANTITY  50000 non-null  object \n",
      " 7   FINAL_SALE      50000 non-null  object \n",
      "dtypes: float64(1), object(7)\n",
      "memory usage: 3.1+ MB\n"
     ]
    }
   ],
   "source": [
    "transaction_df.info()"
   ]
  },
  {
   "cell_type": "code",
   "execution_count": 20,
   "metadata": {},
   "outputs": [
    {
     "name": "stdout",
     "output_type": "stream",
     "text": [
      "<class 'pandas.core.frame.DataFrame'>\n",
      "RangeIndex: 50000 entries, 0 to 49999\n",
      "Data columns (total 8 columns):\n",
      " #   Column          Non-Null Count  Dtype \n",
      "---  ------          --------------  ----- \n",
      " 0   RECEIPT_ID      50000 non-null  object\n",
      " 1   PURCHASE_DATE   50000 non-null  object\n",
      " 2   SCAN_DATE       50000 non-null  object\n",
      " 3   STORE_NAME      50000 non-null  object\n",
      " 4   USER_ID         50000 non-null  object\n",
      " 5   BARCODE         50000 non-null  object\n",
      " 6   FINAL_QUANTITY  50000 non-null  object\n",
      " 7   FINAL_SALE      50000 non-null  object\n",
      "dtypes: object(8)\n",
      "memory usage: 3.1+ MB\n"
     ]
    }
   ],
   "source": [
    "'''\n",
    "Barcode column is of type float64, which is not ideal for a barcode and \n",
    "converting it to string to prevent scientific notation\n",
    "'''\n",
    "transaction_df['BARCODE'] = transaction_df['BARCODE'].astype(str)\n",
    "transaction_df.info()"
   ]
  },
  {
   "cell_type": "markdown",
   "metadata": {},
   "source": [
    "#### Finding Special Characters"
   ]
  },
  {
   "cell_type": "code",
   "execution_count": 21,
   "metadata": {},
   "outputs": [
    {
     "name": "stdout",
     "output_type": "stream",
     "text": [
      "\n",
      " the following are the special characters in the column : \n",
      " STORE_NAME\n",
      "['CAMIL/DOTLAR' 'SELEDLOS BE TODO/AGUSTO'\n",
      " 'THE S HHANT OR 2010 MMILY RN /TAVES' '/MART' 'RELECIOS A/MEOR PRECIOR']\n",
      "\n",
      " the following are the special characters in the column : \n",
      " USER_ID\n",
      "[]\n",
      "\n",
      " the following are the special characters in the column : \n",
      " BARCODE\n",
      "[]\n",
      "\n",
      " the following are the special characters in the column : \n",
      " RECEIPT_ID\n",
      "[]\n"
     ]
    },
    {
     "data": {
      "text/plain": [
       "\" \\nThere appears to be some special characters in the columns \\nWe need to confirm with the stakeholder if these are valid characters or not\\nEg: 'CAMIL/DOTLAR' , 'THE S HHANT OR 2010 MMILY RN /TAVES', '/MART'\\n\""
      ]
     },
     "execution_count": 21,
     "metadata": {},
     "output_type": "execute_result"
    }
   ],
   "source": [
    "''' Finding special_characters in the columns'''\n",
    "import warnings\n",
    "warnings.filterwarnings('ignore') #to ignore warnings\n",
    "\n",
    "column_to_check = ['STORE_NAME','USER_ID','BARCODE','RECEIPT_ID']\n",
    "for col in column_to_check:\n",
    "    special_characters = transaction_df[transaction_df[col].str.contains(r'([^\\w\\s\\-,&.\\'\\’])', regex=True, na=False)]\n",
    "    print(f\"\\n the following are the special characters in the column : \\n {col}\")\n",
    "    print(special_characters[col].unique())\n",
    "\n",
    "''' \n",
    "There appears to be some special characters in the columns \n",
    "We need to confirm with the stakeholder if these are valid characters or not\n",
    "Eg: 'CAMIL/DOTLAR' , 'THE S HHANT OR 2010 MMILY RN /TAVES', '/MART'\n",
    "'''"
   ]
  },
  {
   "cell_type": "code",
   "execution_count": 22,
   "metadata": {},
   "outputs": [
    {
     "name": "stdout",
     "output_type": "stream",
     "text": [
      "\n",
      " the following are the special characters in the column : \n",
      " FINAL_QUANTITY\n",
      "['zero']\n",
      "\n",
      " the following are the special characters in the column : \n",
      " FINAL_SALE\n",
      "[' ']\n"
     ]
    },
    {
     "data": {
      "text/plain": [
       "' \\nFindings:\\nBoth the columns have special characters and were created with object data type\\n\\n'"
      ]
     },
     "execution_count": 22,
     "metadata": {},
     "output_type": "execute_result"
    }
   ],
   "source": [
    "''' \n",
    "Checking special characters in Final_Quantiy and Final_Sales columns \n",
    "Checking these seperately as these are numeric columns and \n",
    "should not have any special characters\n",
    "'''\n",
    "numeric_columns = ['FINAL_QUANTITY', 'FINAL_SALE']\n",
    "for col in numeric_columns:\n",
    "    special_characters = transaction_df[transaction_df[col].str.contains(r'([^\\d\\.\\-])', regex=True, na=False)]\n",
    "    print(f\"\\n the following are the special characters in the column : \\n {col}\")\n",
    "    print(special_characters[col].unique())\n",
    "\n",
    "''' \n",
    "Findings:\n",
    "Both the columns have special characters and were created with object data type\n",
    "\n",
    "'''"
   ]
  },
  {
   "cell_type": "markdown",
   "metadata": {},
   "source": [
    "#### Column data type issues"
   ]
  },
  {
   "cell_type": "code",
   "execution_count": 23,
   "metadata": {},
   "outputs": [],
   "source": [
    "''' \n",
    "Need to convert ZERO to 0 \n",
    "Need to convert double spaces to null\n",
    "\n",
    "Once converted need to converted to Numeric columns\n",
    "'''\n",
    "\n",
    "# Replace 'zero' (string) with the numeric value 0\n",
    "transaction_df['FINAL_QUANTITY'] = transaction_df['FINAL_QUANTITY'].replace('zero', 0)\n",
    "\n",
    "# Convert to numeric to ensure all values are numbers\n",
    "transaction_df['FINAL_QUANTITY'] = pd.to_numeric(transaction_df['FINAL_QUANTITY'], errors='coerce')\n",
    "\n",
    "# Replace spaces (' ') with NaN\n",
    "transaction_df['FINAL_SALE'] = transaction_df['FINAL_SALE'].replace(' ', pd.NA)\n",
    "transaction_df['FINAL_SALE'] = pd.to_numeric(transaction_df['FINAL_SALE'], errors='coerce')"
   ]
  },
  {
   "cell_type": "code",
   "execution_count": 25,
   "metadata": {},
   "outputs": [
    {
     "name": "stdout",
     "output_type": "stream",
     "text": [
      "<class 'pandas.core.frame.DataFrame'>\n",
      "RangeIndex: 50000 entries, 0 to 49999\n",
      "Data columns (total 8 columns):\n",
      " #   Column          Non-Null Count  Dtype              \n",
      "---  ------          --------------  -----              \n",
      " 0   RECEIPT_ID      50000 non-null  object             \n",
      " 1   PURCHASE_DATE   50000 non-null  datetime64[ns]     \n",
      " 2   SCAN_DATE       50000 non-null  datetime64[ns, UTC]\n",
      " 3   STORE_NAME      50000 non-null  object             \n",
      " 4   USER_ID         50000 non-null  object             \n",
      " 5   BARCODE         50000 non-null  object             \n",
      " 6   FINAL_QUANTITY  50000 non-null  float64            \n",
      " 7   FINAL_SALE      37500 non-null  float64            \n",
      "dtypes: datetime64[ns, UTC](1), datetime64[ns](1), float64(2), object(4)\n",
      "memory usage: 3.1+ MB\n"
     ]
    },
    {
     "data": {
      "text/plain": [
       "'The columns now reflect the correct data types'"
      ]
     },
     "execution_count": 25,
     "metadata": {},
     "output_type": "execute_result"
    }
   ],
   "source": [
    "transaction_df.info()\n",
    "'''The columns now reflect the correct data types'''"
   ]
  },
  {
   "cell_type": "code",
   "execution_count": 26,
   "metadata": {},
   "outputs": [
    {
     "data": {
      "text/html": [
       "<div>\n",
       "<style scoped>\n",
       "    .dataframe tbody tr th:only-of-type {\n",
       "        vertical-align: middle;\n",
       "    }\n",
       "\n",
       "    .dataframe tbody tr th {\n",
       "        vertical-align: top;\n",
       "    }\n",
       "\n",
       "    .dataframe thead th {\n",
       "        text-align: right;\n",
       "    }\n",
       "</style>\n",
       "<table border=\"1\" class=\"dataframe\">\n",
       "  <thead>\n",
       "    <tr style=\"text-align: right;\">\n",
       "      <th></th>\n",
       "      <th>RECEIPT_ID</th>\n",
       "      <th>PURCHASE_DATE</th>\n",
       "      <th>SCAN_DATE</th>\n",
       "      <th>STORE_NAME</th>\n",
       "      <th>USER_ID</th>\n",
       "      <th>BARCODE</th>\n",
       "      <th>FINAL_QUANTITY</th>\n",
       "      <th>FINAL_SALE</th>\n",
       "    </tr>\n",
       "  </thead>\n",
       "  <tbody>\n",
       "    <tr>\n",
       "      <th>0</th>\n",
       "      <td>0000d256-4041-4a3e-adc4-5623fb6e0c99</td>\n",
       "      <td>2024-08-21</td>\n",
       "      <td>2024-08-21 14:19:06.539000+00:00</td>\n",
       "      <td>WALMART</td>\n",
       "      <td>63b73a7f3d310dceeabd4758</td>\n",
       "      <td>15300014978.0</td>\n",
       "      <td>1.0</td>\n",
       "      <td>NaN</td>\n",
       "    </tr>\n",
       "    <tr>\n",
       "      <th>1</th>\n",
       "      <td>0001455d-7a92-4a7b-a1d2-c747af1c8fd3</td>\n",
       "      <td>2024-07-20</td>\n",
       "      <td>2024-07-20 09:50:24.206000+00:00</td>\n",
       "      <td>ALDI</td>\n",
       "      <td>62c08877baa38d1a1f6c211a</td>\n",
       "      <td>nan</td>\n",
       "      <td>0.0</td>\n",
       "      <td>1.49</td>\n",
       "    </tr>\n",
       "    <tr>\n",
       "      <th>2</th>\n",
       "      <td>00017e0a-7851-42fb-bfab-0baa96e23586</td>\n",
       "      <td>2024-08-18</td>\n",
       "      <td>2024-08-19 15:38:56.813000+00:00</td>\n",
       "      <td>WALMART</td>\n",
       "      <td>60842f207ac8b7729e472020</td>\n",
       "      <td>78742229751.0</td>\n",
       "      <td>1.0</td>\n",
       "      <td>NaN</td>\n",
       "    </tr>\n",
       "    <tr>\n",
       "      <th>3</th>\n",
       "      <td>000239aa-3478-453d-801e-66a82e39c8af</td>\n",
       "      <td>2024-06-18</td>\n",
       "      <td>2024-06-19 11:03:37.468000+00:00</td>\n",
       "      <td>FOOD LION</td>\n",
       "      <td>63fcd7cea4f8442c3386b589</td>\n",
       "      <td>783399746536.0</td>\n",
       "      <td>0.0</td>\n",
       "      <td>3.49</td>\n",
       "    </tr>\n",
       "    <tr>\n",
       "      <th>4</th>\n",
       "      <td>00026b4c-dfe8-49dd-b026-4c2f0fd5c6a1</td>\n",
       "      <td>2024-07-04</td>\n",
       "      <td>2024-07-05 15:56:43.549000+00:00</td>\n",
       "      <td>RANDALLS</td>\n",
       "      <td>6193231ae9b3d75037b0f928</td>\n",
       "      <td>47900501183.0</td>\n",
       "      <td>1.0</td>\n",
       "      <td>NaN</td>\n",
       "    </tr>\n",
       "  </tbody>\n",
       "</table>\n",
       "</div>"
      ],
      "text/plain": [
       "                             RECEIPT_ID PURCHASE_DATE  \\\n",
       "0  0000d256-4041-4a3e-adc4-5623fb6e0c99    2024-08-21   \n",
       "1  0001455d-7a92-4a7b-a1d2-c747af1c8fd3    2024-07-20   \n",
       "2  00017e0a-7851-42fb-bfab-0baa96e23586    2024-08-18   \n",
       "3  000239aa-3478-453d-801e-66a82e39c8af    2024-06-18   \n",
       "4  00026b4c-dfe8-49dd-b026-4c2f0fd5c6a1    2024-07-04   \n",
       "\n",
       "                         SCAN_DATE STORE_NAME                   USER_ID  \\\n",
       "0 2024-08-21 14:19:06.539000+00:00    WALMART  63b73a7f3d310dceeabd4758   \n",
       "1 2024-07-20 09:50:24.206000+00:00       ALDI  62c08877baa38d1a1f6c211a   \n",
       "2 2024-08-19 15:38:56.813000+00:00    WALMART  60842f207ac8b7729e472020   \n",
       "3 2024-06-19 11:03:37.468000+00:00  FOOD LION  63fcd7cea4f8442c3386b589   \n",
       "4 2024-07-05 15:56:43.549000+00:00   RANDALLS  6193231ae9b3d75037b0f928   \n",
       "\n",
       "          BARCODE  FINAL_QUANTITY  FINAL_SALE  \n",
       "0   15300014978.0             1.0         NaN  \n",
       "1             nan             0.0        1.49  \n",
       "2   78742229751.0             1.0         NaN  \n",
       "3  783399746536.0             0.0        3.49  \n",
       "4   47900501183.0             1.0         NaN  "
      ]
     },
     "execution_count": 26,
     "metadata": {},
     "output_type": "execute_result"
    }
   ],
   "source": [
    "transaction_df.head()"
   ]
  },
  {
   "cell_type": "markdown",
   "metadata": {},
   "source": [
    "#### Checking nulls"
   ]
  },
  {
   "cell_type": "code",
   "execution_count": 47,
   "metadata": {},
   "outputs": [
    {
     "name": "stdout",
     "output_type": "stream",
     "text": [
      "RECEIPT_ID            0\n",
      "PURCHASE_DATE         0\n",
      "SCAN_DATE             0\n",
      "STORE_NAME            0\n",
      "USER_ID               0\n",
      "BARCODE               0\n",
      "FINAL_QUANTITY        0\n",
      "FINAL_SALE        12500\n",
      "dtype: int64\n"
     ]
    },
    {
     "data": {
      "text/plain": [
       "'Only FINAL_SALE column has null values'"
      ]
     },
     "execution_count": 47,
     "metadata": {},
     "output_type": "execute_result"
    }
   ],
   "source": [
    "print(transaction_df.isnull().sum())\n",
    "\n",
    "'''Only FINAL_SALE column has null values'''\n"
   ]
  },
  {
   "cell_type": "markdown",
   "metadata": {},
   "source": [
    "#### Finding Duplicates"
   ]
  },
  {
   "cell_type": "code",
   "execution_count": 28,
   "metadata": {},
   "outputs": [
    {
     "name": "stdout",
     "output_type": "stream",
     "text": [
      " total number of duplicates: 171\n"
     ]
    }
   ],
   "source": [
    "print(f\" total number of duplicates: {transaction_df.duplicated().sum()}\")"
   ]
  },
  {
   "cell_type": "markdown",
   "metadata": {},
   "source": [
    "#### Impossible Scenarios"
   ]
  },
  {
   "cell_type": "code",
   "execution_count": 29,
   "metadata": {},
   "outputs": [
    {
     "name": "stdout",
     "output_type": "stream",
     "text": [
      "                                 RECEIPT_ID PURCHASE_DATE  \\\n",
      "51     008c1dcc-0f96-4b04-98c8-2a2bb63ef89d    2024-07-21   \n",
      "455    04a320ed-2903-45e5-8fd7-6eaf08daef32    2024-06-29   \n",
      "494    05023b3d-5f83-47a7-a17c-8e8521d0bc94    2024-09-08   \n",
      "675    06ce3da3-a588-4c37-93b4-0b6d11e42704    2024-06-22   \n",
      "870    08d0e78f-3e63-40a3-8eb0-73fdf76da52c    2024-06-22   \n",
      "...                                     ...           ...   \n",
      "46034  08d0e78f-3e63-40a3-8eb0-73fdf76da52c    2024-06-22   \n",
      "46539  718aa730-b62f-4e18-8dba-1d7105dac341    2024-09-05   \n",
      "46941  af2b818f-4a92-4e98-958c-65f2ce0b271d    2024-06-15   \n",
      "47653  72bb7b71-d958-4a46-ae62-43abdeb0e693    2024-06-15   \n",
      "47837  99c2e8dc-9dc7-4267-9342-0b19c3fb35a0    2024-06-15   \n",
      "\n",
      "                    SCAN_DATE            STORE_NAME                   USER_ID  \\\n",
      "51    2024-07-20 19:54:23.133               WALMART  5dc24cdb682fcf1229d04bd6   \n",
      "455   2024-06-28 11:03:31.783  DOLLAR GENERAL STORE  62855f67708670299a658035   \n",
      "494   2024-09-07 22:22:29.903             SHOP RITE  666a43c77c0469953bfd9ae0   \n",
      "675   2024-06-21 12:34:15.665              BIG LOTS  646f6ffb7a342372c858487e   \n",
      "870   2024-06-21 20:50:01.298  DOLLAR GENERAL STORE  664cafb6e04f743a096a837e   \n",
      "...                       ...                   ...                       ...   \n",
      "46034 2024-06-21 20:50:01.298  DOLLAR GENERAL STORE  664cafb6e04f743a096a837e   \n",
      "46539 2024-09-04 20:14:00.374               WALMART  5e0f561efa890112094202ad   \n",
      "46941 2024-06-14 10:57:23.892  DOLLAR GENERAL STORE  64de6465516348066e7c5690   \n",
      "47653 2024-06-14 19:55:56.672               WALMART  649726ea127ddb5d7f0004dc   \n",
      "47837 2024-06-14 22:07:18.702               WALMART  5e48ddd01a900e141874e241   \n",
      "\n",
      "              BARCODE  FINAL_QUANTITY  FINAL_SALE  \n",
      "51     681131157339.0             0.0        3.18  \n",
      "455     49000024685.0             0.0        6.00  \n",
      "494     64144041640.0             2.0         NaN  \n",
      "675    311111706324.0             0.0        4.05  \n",
      "870     76808280098.0             2.0         NaN  \n",
      "...               ...             ...         ...  \n",
      "46034   76808280098.0             2.0        3.50  \n",
      "46539   73390009021.0             1.0        3.56  \n",
      "46941  817513015434.0             1.0        3.83  \n",
      "47653   34856108146.0             1.0        2.05  \n",
      "47837   78742027227.0             1.0        1.34  \n",
      "\n",
      "[94 rows x 8 columns]\n"
     ]
    }
   ],
   "source": [
    "'''Checking to see impossible scenarios in the data as PURCHASE_DATE cant be greater than SCAN_DATE'''\n",
    "\n",
    "#As scan_date and purchase date are in different format, converting them to the same format\n",
    "transaction_df['SCAN_DATE'] = transaction_df['SCAN_DATE'].dt.tz_localize(None)\n",
    "invalid_scan_dates = transaction_df[transaction_df['SCAN_DATE'] < transaction_df['PURCHASE_DATE']]\n",
    "print(invalid_scan_dates)"
   ]
  },
  {
   "cell_type": "markdown",
   "metadata": {},
   "source": [
    "#### Examining Skewness in Data"
   ]
  },
  {
   "cell_type": "code",
   "execution_count": 30,
   "metadata": {},
   "outputs": [
    {
     "data": {
      "text/plain": [
       "'\\nFindings:\\nBoth the columns show high skewness with most to the values concentrateed on the left side of the graph\\nnear low quantities and having a long tail on right side\\n\\nThese maybe because of bulk purchases which is a possible scenario or it could also\\nbe erroneous data\\n\\n'"
      ]
     },
     "execution_count": 30,
     "metadata": {},
     "output_type": "execute_result"
    },
    {
     "data": {
      "image/png": "[encoded data removed]",
      "text/plain": [
       "<Figure size 1200x500 with 1 Axes>"
      ]
     },
     "metadata": {},
     "output_type": "display_data"
    },
    {
     "data": {
      "image/png": "[encoded data removed]",
      "text/plain": [
       "<Figure size 1200x500 with 1 Axes>"
      ]
     },
     "metadata": {},
     "output_type": "display_data"
    }
   ],
   "source": [
    "# List of continuous variables\n",
    "continuous_vars = ['FINAL_QUANTITY', 'FINAL_SALE']\n",
    "\n",
    "# Plot histograms and boxplots\n",
    "for col in continuous_vars:\n",
    "    plt.figure(figsize=(12, 5))\n",
    "\n",
    "    # Histogram\n",
    "    sns.histplot(transaction_df[col], bins=30, kde=True)\n",
    "    plt.title(f'Histogram of {col}')\n",
    "    plt.xlabel(col)\n",
    "    plt.ylabel('Frequency')\n",
    "\n",
    "'''\n",
    "Findings:\n",
    "Both the columns show high skewness with most to the values concentrateed on the left side of the graph\n",
    "near low quantities and having a long tail on right side\n",
    "\n",
    "These maybe because of bulk purchases which is a possible scenario or it could also\n",
    "be erroneous data\n",
    "\n",
    "'''"
   ]
  },
  {
   "cell_type": "markdown",
   "metadata": {},
   "source": [
    "#### Outlier Analysis"
   ]
  },
  {
   "cell_type": "code",
   "execution_count": null,
   "metadata": {},
   "outputs": [
    {
     "name": "stdout",
     "output_type": "stream",
     "text": [
      "Analyzing Column: FINAL_QUANTITY\n",
      "  Total outliers in FINAL_QUANTITY: 432\n"
     ]
    },
    {
     "data": {
      "image/png": "[encoded data removed]",
      "text/plain": [
       "<Figure size 1000x500 with 1 Axes>"
      ]
     },
     "metadata": {},
     "output_type": "display_data"
    },
    {
     "name": "stdout",
     "output_type": "stream",
     "text": [
      "Analyzing Column: FINAL_SALE\n",
      "  Total outliers in FINAL_SALE: 2984\n"
     ]
    },
    {
     "data": {
      "image/png": "[encoded data removed]",
      "text/plain": [
       "<Figure size 1000x500 with 1 Axes>"
      ]
     },
     "metadata": {},
     "output_type": "display_data"
    }
   ],
   "source": [
    "outlier_analysis(transaction_df)\n",
    "'''\n",
    "There are extreme outliers in both the columns indicating high value purchases\n",
    "\n",
    "Need to investigate if these values are valid or erroneous data\n",
    "'''"
   ]
  },
  {
   "cell_type": "markdown",
   "metadata": {},
   "source": [
    "#### Correlation Analysis"
   ]
  },
  {
   "cell_type": "code",
   "execution_count": 33,
   "metadata": {},
   "outputs": [
    {
     "data": {
      "image/png": "[encoded data removed]",
      "text/plain": [
       "<Figure size 1000x1000 with 2 Axes>"
      ]
     },
     "metadata": {},
     "output_type": "display_data"
    }
   ],
   "source": [
    "correlation_matrix(transaction_df)\n",
    "\n",
    "''' \n",
    "these is no significant correlation between the columns\n",
    "the reason might be because there are various products with different prices and \n",
    "might have low quantities sold.\n",
    "\n",
    "So, there is no dependency between the two variables\n",
    "'''"
   ]
  },
  {
   "cell_type": "markdown",
   "metadata": {},
   "source": [
    "#### Missing Barcodes"
   ]
  },
  {
   "cell_type": "code",
   "execution_count": null,
   "metadata": {},
   "outputs": [
    {
     "name": "stdout",
     "output_type": "stream",
     "text": [
      "                             RECEIPT_ID PURCHASE_DATE               SCAN_DATE  \\\n",
      "2  00017e0a-7851-42fb-bfab-0baa96e23586    2024-08-18 2024-08-19 15:38:56.813   \n",
      "3  000239aa-3478-453d-801e-66a82e39c8af    2024-06-18 2024-06-19 11:03:37.468   \n",
      "4  00026b4c-dfe8-49dd-b026-4c2f0fd5c6a1    2024-07-04 2024-07-05 15:56:43.549   \n",
      "6  000550b2-1480-4c07-950f-ff601f242152    2024-07-06 2024-07-06 19:27:48.586   \n",
      "8  000e1d35-15e5-46c6-b6b3-33653ed3d27e    2024-08-13 2024-08-13 18:21:07.931   \n",
      "\n",
      "  STORE_NAME                   USER_ID       BARCODE  FINAL_QUANTITY  \\\n",
      "2    WALMART  60842f207ac8b7729e472020   78742229751             1.0   \n",
      "3  FOOD LION  63fcd7cea4f8442c3386b589  783399746536             0.0   \n",
      "4   RANDALLS  6193231ae9b3d75037b0f928   47900501183             1.0   \n",
      "6    WALMART  5f850bc9cf9431165f3ac175   49200905548             1.0   \n",
      "8    WALMART  61a6d926f998e47aad33db66   52000011227             1.0   \n",
      "\n",
      "   FINAL_SALE  \n",
      "2         NaN  \n",
      "3        3.49  \n",
      "4         NaN  \n",
      "6         NaN  \n",
      "8         NaN  \n",
      "\n",
      " Number of missing barcodes: \n",
      " 19408\n"
     ]
    }
   ],
   "source": [
    "missing_barcodes = transaction_df[~transaction_df['BARCODE'].isin(products_df['BARCODE'])]\n",
    "print(missing_barcodes.head())\n",
    "print(f\"\\n Number of missing barcodes: \\n {len(missing_barcodes)}\")\n",
    "\n",
    "'''This section shows the barcodes that are found in the transaction data \n",
    "but not in the product data which is clearly an erroneous data\n",
    "\n",
    "These should be properly investigated and dropped if needed\n",
    "'''"
   ]
  },
  {
   "cell_type": "markdown",
   "metadata": {},
   "source": [
    "#### Trend Analysis"
   ]
  },
  {
   "cell_type": "code",
   "execution_count": null,
   "metadata": {},
   "outputs": [
    {
     "data": {
      "image/png": "[encoded data removed]",
      "text/plain": [
       "<Figure size 1000x500 with 1 Axes>"
      ]
     },
     "metadata": {},
     "output_type": "display_data"
    },
    {
     "data": {
      "text/plain": [
       "'\\nFindings: the below trend shows the number of signups over the years\\nwe can see that the signups has grown over the years and peaked at 2022 \\nbefore dropping in 2023 and 2024\\n'"
      ]
     },
     "execution_count": 105,
     "metadata": {},
     "output_type": "execute_result"
    }
   ],
   "source": [
    "# user signups trend by year\n",
    "purchases_by_year = transaction_df['PURCHASE_DATE'].dt.month.value_counts()\n",
    "\n",
    "# Line Plot\n",
    "plt.figure(figsize=(10, 5))\n",
    "sns.lineplot(x=purchases_by_year.index, y=purchases_by_year.values, marker='o')\n",
    "plt.xlabel(\"Month in Year 2024\") \n",
    "plt.ylabel(\"Number of Purchases\")\n",
    "plt.title(\"Number of Purchases per month\")\n",
    "plt.show()\n",
    "\n",
    "'''\n",
    "Findings:\n",
    "The below graph that highest number of purchases were made in the 7th month \n",
    "and purchases has drastically dropped in 9th month'''"
   ]
  },
  {
   "cell_type": "markdown",
   "metadata": {},
   "source": [
    "### <b>Data Observations/Data Quality Findings for Transaction dataset</b>\n",
    "#### Please note that the detailed findinds are provided as comments inside the code block. This section summarizes all the data cleaning efforts taken care. \n",
    "\n",
    "\n",
    "Converted BARCODE to object datatype as BARCODE it might loose any leading zeros and in general no numerical calcualtions are performed on BARCODE columns\n",
    "\n",
    "FINAL_QUANTITY and FINAL_SALE have datatype issues and convereted to numerical\n",
    "\n",
    "Checked for Duplicates and Nulls\n",
    "\n",
    "Checked Skewness in data for continuous variables\n",
    "\n",
    "Performed outlier and correlation analysis\n",
    "\n",
    "Checked impossible scenarios where purchase_date > scan_date\n",
    "\n",
    "Invalid bar_codes are found. These barcodes are present in Transaction dataset but are missing in Product dataset. \n",
    "\n",
    "\n",
    "#### Assupmtions\n",
    "\n",
    "Considered barcode with length less than 10 as invalid\n",
    "\n",
    "Barcodes present in Transaction and missing in products can be deemed invalid\n",
    "\n",
    "Continous variables (FINAL_QUANTITY and FINAL_SALE) are highly right skewed and needs to be handled with log function for better analysis.\n",
    "As if the data is too skewed, applying a log transformation can help normalize it\n",
    "\n",
    "### Conclusion\n",
    "\n",
    "Duplicates and Null values are present and needs to be handled accordingly\n",
    "\n",
    "There are are some extreme outliers and should be handled \n",
    "\n",
    "There is very high amount of right skewness in data which is expected with the type of data we have and can be handled by applying log\n",
    "\n",
    "There are a lot of records where purchase_date>scan_date and should be removed or handled based on the project requirements\n",
    "\n",
    "There are many invalid barcode meaning these are not assigned to any product from the Products dataset."
   ]
  },
  {
   "cell_type": "markdown",
   "metadata": {},
   "source": [
    "## <b> USER Dataset Analysis </b>"
   ]
  },
  {
   "cell_type": "code",
   "execution_count": 49,
   "metadata": {},
   "outputs": [
    {
     "data": {
      "text/html": [
       "<div>\n",
       "<style scoped>\n",
       "    .dataframe tbody tr th:only-of-type {\n",
       "        vertical-align: middle;\n",
       "    }\n",
       "\n",
       "    .dataframe tbody tr th {\n",
       "        vertical-align: top;\n",
       "    }\n",
       "\n",
       "    .dataframe thead th {\n",
       "        text-align: right;\n",
       "    }\n",
       "</style>\n",
       "<table border=\"1\" class=\"dataframe\">\n",
       "  <thead>\n",
       "    <tr style=\"text-align: right;\">\n",
       "      <th></th>\n",
       "      <th>ID</th>\n",
       "      <th>CREATED_DATE</th>\n",
       "      <th>BIRTH_DATE</th>\n",
       "      <th>STATE</th>\n",
       "      <th>LANGUAGE</th>\n",
       "      <th>GENDER</th>\n",
       "    </tr>\n",
       "  </thead>\n",
       "  <tbody>\n",
       "    <tr>\n",
       "      <th>0</th>\n",
       "      <td>5ef3b4f17053ab141787697d</td>\n",
       "      <td>2020-06-24 20:17:54.000 Z</td>\n",
       "      <td>2000-08-11 00:00:00.000 Z</td>\n",
       "      <td>CA</td>\n",
       "      <td>es-419</td>\n",
       "      <td>female</td>\n",
       "    </tr>\n",
       "    <tr>\n",
       "      <th>1</th>\n",
       "      <td>5ff220d383fcfc12622b96bc</td>\n",
       "      <td>2021-01-03 19:53:55.000 Z</td>\n",
       "      <td>2001-09-24 04:00:00.000 Z</td>\n",
       "      <td>PA</td>\n",
       "      <td>en</td>\n",
       "      <td>female</td>\n",
       "    </tr>\n",
       "    <tr>\n",
       "      <th>2</th>\n",
       "      <td>6477950aa55bb77a0e27ee10</td>\n",
       "      <td>2023-05-31 18:42:18.000 Z</td>\n",
       "      <td>1994-10-28 00:00:00.000 Z</td>\n",
       "      <td>FL</td>\n",
       "      <td>es-419</td>\n",
       "      <td>female</td>\n",
       "    </tr>\n",
       "    <tr>\n",
       "      <th>3</th>\n",
       "      <td>658a306e99b40f103b63ccf8</td>\n",
       "      <td>2023-12-26 01:46:22.000 Z</td>\n",
       "      <td>NaN</td>\n",
       "      <td>NC</td>\n",
       "      <td>en</td>\n",
       "      <td>NaN</td>\n",
       "    </tr>\n",
       "    <tr>\n",
       "      <th>4</th>\n",
       "      <td>653cf5d6a225ea102b7ecdc2</td>\n",
       "      <td>2023-10-28 11:51:50.000 Z</td>\n",
       "      <td>1972-03-19 00:00:00.000 Z</td>\n",
       "      <td>PA</td>\n",
       "      <td>en</td>\n",
       "      <td>female</td>\n",
       "    </tr>\n",
       "  </tbody>\n",
       "</table>\n",
       "</div>"
      ],
      "text/plain": [
       "                         ID               CREATED_DATE  \\\n",
       "0  5ef3b4f17053ab141787697d  2020-06-24 20:17:54.000 Z   \n",
       "1  5ff220d383fcfc12622b96bc  2021-01-03 19:53:55.000 Z   \n",
       "2  6477950aa55bb77a0e27ee10  2023-05-31 18:42:18.000 Z   \n",
       "3  658a306e99b40f103b63ccf8  2023-12-26 01:46:22.000 Z   \n",
       "4  653cf5d6a225ea102b7ecdc2  2023-10-28 11:51:50.000 Z   \n",
       "\n",
       "                  BIRTH_DATE STATE LANGUAGE  GENDER  \n",
       "0  2000-08-11 00:00:00.000 Z    CA   es-419  female  \n",
       "1  2001-09-24 04:00:00.000 Z    PA       en  female  \n",
       "2  1994-10-28 00:00:00.000 Z    FL   es-419  female  \n",
       "3                        NaN    NC       en     NaN  \n",
       "4  1972-03-19 00:00:00.000 Z    PA       en  female  "
      ]
     },
     "execution_count": 49,
     "metadata": {},
     "output_type": "execute_result"
    }
   ],
   "source": [
    "#Loading the last dataset which is USER data\n",
    "user_df = pd.read_csv('user_takehome.csv')\n",
    "user_df.head()"
   ]
  },
  {
   "cell_type": "code",
   "execution_count": 50,
   "metadata": {},
   "outputs": [
    {
     "name": "stdout",
     "output_type": "stream",
     "text": [
      "<class 'pandas.core.frame.DataFrame'>\n",
      "RangeIndex: 100000 entries, 0 to 99999\n",
      "Data columns (total 6 columns):\n",
      " #   Column        Non-Null Count   Dtype \n",
      "---  ------        --------------   ----- \n",
      " 0   ID            100000 non-null  object\n",
      " 1   CREATED_DATE  100000 non-null  object\n",
      " 2   BIRTH_DATE    96325 non-null   object\n",
      " 3   STATE         95188 non-null   object\n",
      " 4   LANGUAGE      69492 non-null   object\n",
      " 5   GENDER        94108 non-null   object\n",
      "dtypes: object(6)\n",
      "memory usage: 4.6+ MB\n"
     ]
    }
   ],
   "source": [
    "#Checking to see the data types of the columns\n",
    "user_df.info()"
   ]
  },
  {
   "cell_type": "markdown",
   "metadata": {},
   "source": [
    "#### Datatype Conversion"
   ]
  },
  {
   "cell_type": "code",
   "execution_count": 53,
   "metadata": {},
   "outputs": [
    {
     "name": "stdout",
     "output_type": "stream",
     "text": [
      "<class 'pandas.core.frame.DataFrame'>\n",
      "RangeIndex: 100000 entries, 0 to 99999\n",
      "Data columns (total 6 columns):\n",
      " #   Column        Non-Null Count   Dtype              \n",
      "---  ------        --------------   -----              \n",
      " 0   ID            100000 non-null  object             \n",
      " 1   CREATED_DATE  100000 non-null  datetime64[ns, UTC]\n",
      " 2   BIRTH_DATE    96325 non-null   datetime64[ns, UTC]\n",
      " 3   STATE         95188 non-null   object             \n",
      " 4   LANGUAGE      69492 non-null   object             \n",
      " 5   GENDER        94108 non-null   object             \n",
      "dtypes: datetime64[ns, UTC](2), object(4)\n",
      "memory usage: 4.6+ MB\n"
     ]
    }
   ],
   "source": [
    "user_df['CREATED_DATE'] = pd.to_datetime(user_df['CREATED_DATE'])\n",
    "user_df['BIRTH_DATE'] = pd.to_datetime(user_df['BIRTH_DATE'])\n",
    "user_df.info()"
   ]
  },
  {
   "cell_type": "markdown",
   "metadata": {},
   "source": [
    "#### Checking Special Characters"
   ]
  },
  {
   "cell_type": "code",
   "execution_count": 61,
   "metadata": {},
   "outputs": [
    {
     "name": "stdout",
     "output_type": "stream",
     "text": [
      "\n",
      " the following are the special characters in the column : \n",
      " ID\n",
      "[]\n",
      "\n",
      " the following are the special characters in the column : \n",
      " STATE\n",
      "[]\n",
      "\n",
      " the following are the special characters in the column : \n",
      " LANGUAGE\n",
      "[]\n",
      "\n",
      " the following are the special characters in the column : \n",
      " GENDER\n",
      "[]\n"
     ]
    },
    {
     "data": {
      "text/plain": [
       "' Findings: There seems to be no special characters in the columns'"
      ]
     },
     "execution_count": 61,
     "metadata": {},
     "output_type": "execute_result"
    }
   ],
   "source": [
    "column_to_check = ['ID','STATE','LANGUAGE','GENDER']\n",
    "for col in column_to_check:\n",
    "    special_characters = user_df[user_df[col].str.contains(r'([^\\w\\s\\-\\'])', regex=True, na=False)]\n",
    "    print(f\"\\n the following are the special characters in the column : \\n {col}\")\n",
    "    print(special_characters[col].unique())\n",
    "\n",
    "''' Findings: There seems to be no special characters in the columns'''"
   ]
  },
  {
   "cell_type": "markdown",
   "metadata": {},
   "source": [
    "#### Unique values check"
   ]
  },
  {
   "cell_type": "code",
   "execution_count": 57,
   "metadata": {},
   "outputs": [
    {
     "name": "stdout",
     "output_type": "stream",
     "text": [
      "\n",
      " the following are the unique values in the column : \n",
      " ID\n",
      "['5ef3b4f17053ab141787697d' '5ff220d383fcfc12622b96bc'\n",
      " '6477950aa55bb77a0e27ee10' ... '637d5efdd6f2a49c49934dcb'\n",
      " '5f0de23b05d8a6147dc0cafa' '5e7ab436905e9512ff44abc8']\n",
      "\n",
      " the following are the unique values in the column : \n",
      " CREATED_DATE\n",
      "<DatetimeArray>\n",
      "['2020-06-24 20:17:54+00:00', '2021-01-03 19:53:55+00:00',\n",
      " '2023-05-31 18:42:18+00:00', '2023-12-26 01:46:22+00:00',\n",
      " '2023-10-28 11:51:50+00:00', '2020-12-23 03:18:11+00:00',\n",
      " '2023-09-25 22:57:24+00:00', '2023-04-01 13:30:18+00:00',\n",
      " '2022-12-22 21:18:25+00:00', '2022-11-04 17:25:53+00:00',\n",
      " ...\n",
      " '2023-02-23 00:20:04+00:00', '2021-02-27 20:28:38+00:00',\n",
      " '2020-08-03 01:11:50+00:00', '2021-04-24 16:29:11+00:00',\n",
      " '2021-01-16 22:23:48+00:00', '2022-02-03 16:46:12+00:00',\n",
      " '2022-12-08 13:34:39+00:00', '2022-11-22 23:45:05+00:00',\n",
      " '2020-07-14 16:50:04+00:00', '2020-03-25 01:30:30+00:00']\n",
      "Length: 99942, dtype: datetime64[ns, UTC]\n",
      "\n",
      " the following are the unique values in the column : \n",
      " BIRTH_DATE\n",
      "<DatetimeArray>\n",
      "['2000-08-11 00:00:00+00:00', '2001-09-24 04:00:00+00:00',\n",
      " '1994-10-28 00:00:00+00:00',                       'NaT',\n",
      " '1972-03-19 00:00:00+00:00', '1999-10-27 04:00:00+00:00',\n",
      " '1983-09-25 22:57:25+00:00', '1970-02-16 05:00:00+00:00',\n",
      " '1982-12-22 05:00:00+00:00', '1992-05-03 04:00:00+00:00',\n",
      " ...\n",
      " '2002-09-21 05:19:02+00:00', '1969-04-26 06:00:00+00:00',\n",
      " '2010-04-29 00:00:00+00:00', '1999-09-23 13:59:05+00:00',\n",
      " '2006-11-18 00:00:00+00:00', '1959-12-07 08:00:00+00:00',\n",
      " '1972-04-08 00:00:00+00:00', '1952-12-15 12:29:47+00:00',\n",
      " '1992-03-16 08:00:00+00:00', '1995-06-09 04:00:00+00:00']\n",
      "Length: 54722, dtype: datetime64[ns, UTC]\n",
      "\n",
      " the following are the unique values in the column : \n",
      " STATE\n",
      "['CA' 'PA' 'FL' 'NC' 'NY' 'IN' nan 'OH' 'TX' 'NM' 'PR' 'CO' 'AZ' 'RI' 'MO'\n",
      " 'NJ' 'MA' 'TN' 'LA' 'NH' 'WI' 'IA' 'GA' 'VA' 'DC' 'KY' 'SC' 'MN' 'WV'\n",
      " 'DE' 'MI' 'IL' 'MS' 'WA' 'KS' 'CT' 'OR' 'UT' 'MD' 'OK' 'NE' 'NV' 'AL'\n",
      " 'AK' 'AR' 'HI' 'ME' 'ND' 'ID' 'WY' 'MT' 'SD' 'VT']\n",
      "\n",
      " the following are the unique values in the column : \n",
      " LANGUAGE\n",
      "['es-419' 'en' nan]\n",
      "\n",
      " the following are the unique values in the column : \n",
      " GENDER\n",
      "['female' nan 'male' 'non_binary' 'transgender' 'prefer_not_to_say'\n",
      " 'not_listed' 'Non-Binary' 'unknown' 'not_specified'\n",
      " \"My gender isn't listed\" 'Prefer not to say']\n"
     ]
    }
   ],
   "source": [
    "#Checking unique values in all columns\n",
    "\n",
    "for col in user_df.columns:\n",
    "    \n",
    "    print(f\"\\n the following are the unique values in the column : \\n {col}\")\n",
    "    print(user_df[col].unique())\n",
    "\n",
    "'''\n",
    "Language has 'es-419' which is a valid language code as per online sources\n",
    "and can be assumed as valid language\n",
    "'''"
   ]
  },
  {
   "cell_type": "markdown",
   "metadata": {},
   "source": [
    "#### Checking Nulls"
   ]
  },
  {
   "cell_type": "code",
   "execution_count": 62,
   "metadata": {},
   "outputs": [
    {
     "data": {
      "text/plain": [
       "ID                  0\n",
       "CREATED_DATE        0\n",
       "BIRTH_DATE       3675\n",
       "STATE            4812\n",
       "LANGUAGE        30508\n",
       "GENDER           5892\n",
       "dtype: int64"
      ]
     },
     "execution_count": 62,
     "metadata": {},
     "output_type": "execute_result"
    }
   ],
   "source": [
    "user_df.isnull().sum()\n",
    "\n",
    "'''There are good number of nulls values in majority of the columns'''"
   ]
  },
  {
   "cell_type": "markdown",
   "metadata": {},
   "source": [
    "#### Checking Duplicates"
   ]
  },
  {
   "cell_type": "code",
   "execution_count": null,
   "metadata": {},
   "outputs": [
    {
     "name": "stdout",
     "output_type": "stream",
     "text": [
      "Total Duplicates: 0\n"
     ]
    }
   ],
   "source": [
    "print(f\"Total Duplicates: {user_df.duplicated().sum()}\")\n",
    "\n",
    "'''This is the only dataset that has no duplicates'''"
   ]
  },
  {
   "cell_type": "markdown",
   "metadata": {},
   "source": [
    "#### Trends/Distribution analysis"
   ]
  },
  {
   "cell_type": "code",
   "execution_count": 70,
   "metadata": {},
   "outputs": [
    {
     "data": {
      "image/png": "[encoded data removed]",
      "text/plain": [
       "<Figure size 1000x500 with 1 Axes>"
      ]
     },
     "metadata": {},
     "output_type": "display_data"
    }
   ],
   "source": [
    "# user signups trend by year\n",
    "signups_by_year = user_df['CREATED_DATE'].dt.year.value_counts()\n",
    "\n",
    "# Line Plot\n",
    "plt.figure(figsize=(10, 5))\n",
    "sns.lineplot(x=signups_by_year.index, y=signups_by_year.values, marker='o')\n",
    "plt.xlabel(\"Year\")\n",
    "plt.ylabel(\"Number of Signups\")\n",
    "plt.title(\"User Signup Trends Over Time\")\n",
    "plt.show()\n",
    "\n",
    "'''\n",
    "Findings: the below trend shows the number of signups over the years\n",
    "we can see that the signups has grown over the years and peaked at 2022 \n",
    "before dropping in 2023 and 2024\n",
    "'''\n"
   ]
  },
  {
   "cell_type": "code",
   "execution_count": 73,
   "metadata": {},
   "outputs": [
    {
     "data": {
      "image/png": "[encoded data removed]",
      "text/plain": [
       "<Figure size 1000x500 with 1 Axes>"
      ]
     },
     "metadata": {},
     "output_type": "display_data"
    }
   ],
   "source": [
    "# Top 10 states with most users\n",
    "users_by_state = user_df['STATE'].value_counts().head(10)\n",
    "\n",
    "# Bar Chart\n",
    "plt.figure(figsize=(10, 5))\n",
    "sns.barplot(x=users_by_state.index, y=users_by_state.values, palette='viridis')\n",
    "plt.xlabel(\"State\")\n",
    "plt.ylabel(\"Number of Users\")\n",
    "plt.title(\"Top 10 States with Most Users\")\n",
    "plt.xticks(rotation=45)\n",
    "plt.show()\n",
    "\n",
    "'''findings: the below bar chart shows the top 10 states with most users\n",
    "We can see that TX, FL, CA,NY has most number of users'''"
   ]
  },
  {
   "cell_type": "code",
   "execution_count": 99,
   "metadata": {},
   "outputs": [
    {
     "data": {
      "image/png": "[encoded data removed]",
      "text/plain": [
       "<Figure size 1000x500 with 1 Axes>"
      ]
     },
     "metadata": {},
     "output_type": "display_data"
    }
   ],
   "source": [
    "# Compute User Age\n",
    "from datetime import datetime\n",
    "user_df['BIRTH_DATE'] = user_df['BIRTH_DATE'].dt.tz_localize(None)\n",
    "user_df['AGE'] = (datetime.today() - user_df['BIRTH_DATE']).dt.days // 365\n",
    "\n",
    "# Histogram\n",
    "plt.figure(figsize=(10, 5))\n",
    "sns.histplot(user_df['AGE'], bins=30)\n",
    "plt.xlabel(\"Age\")\n",
    "plt.ylabel(\"Number of Users\")\n",
    "plt.title(\"User Age Distribution\")\n",
    "plt.show()\n",
    "\n",
    "'''lot of users are spread beteen 20 and 50 years of age'''\n"
   ]
  },
  {
   "cell_type": "markdown",
   "metadata": {},
   "source": [
    "### <b> Data Observations/Data Quality summary for USER dataset </b>\n",
    "#### Please note that the detailed findings are provided as comments inside the code block. This section summarizes all the data cleaning efforts taken care. \n",
    "\n",
    "Performed Null and Duplicate checks\n",
    "\n",
    "Checked invalid or special characters \n",
    "\n",
    "Converted dates to datetime timestamps\n",
    "\n",
    "Checked for unique values to find any erroneous data\n",
    "\n",
    "Performed Trend analysis\n",
    "\n",
    "### Conclusion\n",
    "Most signups has grown over the years and peaked at 2022 before dropping in 2023 and 2024\n",
    "\n",
    "TX, FL, CA,NY has most number of users\n",
    "\n",
    "A lot of users are aged between 20 and 50"
   ]
  }
 ],
 "metadata": {
  "kernelspec": {
   "display_name": "Python 3",
   "language": "python",
   "name": "python3"
  },
  "language_info": {
   "codemirror_mode": {
    "name": "ipython",
    "version": 3
   },
   "file_extension": ".py",
   "mimetype": "text/x-python",
   "name": "python",
   "nbconvert_exporter": "python",
   "pygments_lexer": "ipython3",
   "version": "3.11.9"
  }
 },
 "nbformat": 4,
 "nbformat_minor": 2
}
